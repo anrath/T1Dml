{
 "metadata": {
  "language_info": {
   "codemirror_mode": {
    "name": "ipython",
    "version": 3
   },
   "file_extension": ".py",
   "mimetype": "text/x-python",
   "name": "python",
   "nbconvert_exporter": "python",
   "pygments_lexer": "ipython3",
   "version": "3.8.5-final"
  },
  "orig_nbformat": 2,
  "kernelspec": {
   "name": "Python 3.8.5 64-bit ('t1d_1': conda)",
   "display_name": "Python 3.8.5 64-bit ('t1d_1': conda)",
   "metadata": {
    "interpreter": {
     "hash": "9814f2f40997759e55f2fde0d2b857093f60da7e85602264242a746c5fb56112"
    }
   }
  }
 },
 "nbformat": 4,
 "nbformat_minor": 2,
 "cells": [
  {
   "source": [
    "# Starting data analysis"
   ],
   "cell_type": "markdown",
   "metadata": {}
  },
  {
   "cell_type": "code",
   "execution_count": 80,
   "metadata": {
    "tags": []
   },
   "outputs": [],
   "source": [
    "import pandas as pd\n",
    "basal_52104 = pd.read_csv(\"Data/PatientData/EAOB/52104/basal.csv\")\n",
    "bolus_52104 = pd.read_csv(\"Data/PatientData/EAOB/52104/bolus.csv\")\n",
    "cgm_52104 = pd.read_csv(\"Data/PatientData/EAOB/52104/cgm.csv\")\n",
    "hr_52104 = pd.read_csv(\"Data/PatientData/EAOB/52104/hr.csv\")\n",
    "dataFrames = [basal_52104, bolus_52104, cgm_52104, hr_52104]\n",
    "\n",
    "\n",
    "# for frame in dataFrames:\n",
    "#     print(frame.columns)"
   ]
  },
  {
   "cell_type": "code",
   "execution_count": 81,
   "metadata": {},
   "outputs": [
    {
     "output_type": "stream",
     "name": "stdout",
     "text": [
      "Index(['Id', ' Reading taken at', ' Reading', ' Patient', ' Created at',\n       ' Updated at', ' Cgmdatafile'],\n      dtype='object')\nId                            int64\n Reading taken at    datetime64[ns]\n Reading                    float64\n Patient                      int64\n Created at                  object\n Updated at                 float64\n Cgmdatafile                float64\ndtype: object\n                      Reading\n Reading taken at            \n2018-02-27 00:05:00     239.0\n2018-02-27 00:10:00     240.0\n2018-02-27 00:15:00     234.0\n2018-02-27 00:20:00     228.0\n2018-02-27 00:25:00     223.0\n...                       ...\n2018-04-15 18:55:00     300.0\n2018-04-15 19:00:00     312.0\n2018-04-15 19:05:00     314.0\n2018-04-15 19:10:00     316.0\n2018-04-15 19:15:00     316.0\n\n[13767 rows x 1 columns]\n"
     ]
    }
   ],
   "source": [
    "cgm_52104[\" Reading taken at\"] = pd.to_datetime(cgm_52104[\" Reading taken at\"], format=\"%m/%d/%Y %H:%M:%S\") #02/27/2018 00:01:08\n",
    "cgm_52104[\" Reading\"] = cgm_52104[\" Reading\"].apply(pd.to_numeric, errors='coerce')\n",
    "print(cgm_52104.columns)\n",
    "# print(cgm_52104.head())\n",
    "print(cgm_52104.dtypes)\n",
    "\n",
    "# set index to time, this makes df a time series df and then you can apply pandas time series functions.  \n",
    "cgm_52104.set_index(cgm_52104[\" Reading taken at\"], drop=True, inplace=True)   \n",
    "\n",
    "# create another df by resampling the original df and counting the instance column by Month ('M' is resample by month)\n",
    "cgm2 = pd.DataFrame(cgm_52104[' Reading'].resample('5min', label='right', closed='right').mean().pad())\n",
    "print(cgm2)\n",
    "cgm2.to_csv(\"cgm2.csv\")"
   ]
  },
  {
   "cell_type": "code",
   "execution_count": 82,
   "metadata": {},
   "outputs": [
    {
     "output_type": "stream",
     "name": "stdout",
     "text": [
      "                      Reading\n Reading taken at            \n2018-02-27 00:00:00      0.25\n2018-02-27 00:05:00      0.25\n2018-02-27 00:10:00      0.25\n2018-02-27 00:15:00      0.25\n2018-02-27 00:20:00      0.25\n...                       ...\n2018-04-15 12:10:00      0.50\n2018-04-15 12:15:00      0.50\n2018-04-15 12:20:00      0.50\n2018-04-15 12:25:00      0.50\n2018-04-15 12:30:00      0.25\n\n[13687 rows x 1 columns]\n"
     ]
    }
   ],
   "source": [
    "basal_52104[\" Reading taken at\"] = pd.to_datetime(basal_52104[\" Reading taken at\"], format=\"%m/%d/%Y %H:%M\") #02/27/2018 00:01:08\n",
    "basal_52104[\" Reading\"] = basal_52104[\" Reading\"].apply(pd.to_numeric, errors='coerce')\n",
    "\n",
    "# set index to time, this makes df a time series df and then apply pandas time series functions.  \n",
    "basal_52104.set_index(basal_52104[\" Reading taken at\"], drop=True, inplace=True)   \n",
    "\n",
    "# create another df by resampling the original df\n",
    "basal2 = pd.DataFrame(basal_52104[' Reading'].resample('5min', label='right', closed='right').mean().pad())\n",
    "print(basal2)\n",
    "basal2.to_csv(\"basal2.csv\")"
   ]
  },
  {
   "cell_type": "code",
   "execution_count": 94,
   "metadata": {},
   "outputs": [
    {
     "output_type": "stream",
     "name": "stdout",
     "text": [
      "                      Units\n Reading taken at          \n2018-02-27 07:25:00    0.25\n2018-02-27 07:30:00    0.25\n2018-02-27 07:35:00    0.25\n2018-02-27 07:40:00    0.25\n2018-02-27 07:45:00    0.25\n...                     ...\n2018-04-15 20:45:00    2.05\n2018-04-15 20:50:00    2.05\n2018-04-15 20:55:00    2.05\n2018-04-15 21:00:00    2.05\n2018-04-15 21:05:00    2.75\n\n[13701 rows x 1 columns]\n"
     ]
    }
   ],
   "source": [
    "# my_dict = {\"basal\": basal_52104}\n",
    "def get_df_name(df):\n",
    "    name =[x for x in globals() if globals()[x] is df][0]\n",
    "    return name\n",
    "\n",
    "def refactorTime(df):\n",
    "    # name = get_df_name(df)\n",
    "    # unitCol = \"\"\n",
    "    # format = \"\"\n",
    "\n",
    "\n",
    "    df.iloc[:, 1] = pd.to_datetime(df.iloc[:, 1], format=\"%m/%d/%Y %H:%M\") #02/27/2018 00:01:08\n",
    "    df.iloc[:, 2] = df.iloc[:, 2].apply(pd.to_numeric, errors='coerce')\n",
    "\n",
    "    # set index to time, this makes df a time series df and then apply pandas time series functions.  \n",
    "    df.set_index(df.iloc[:, 1], drop=True, inplace=True)   \n",
    "\n",
    "    # create another df by resampling the original df\n",
    "    new_df = pd.DataFrame(df.iloc[:, 2].resample(\"5min\", label=\"right\", closed=\"right\").mean().pad())\n",
    "    print(new_df)\n",
    "    return df, new_df\n",
    "bolus_52104, bolus2 = refactorTime(bolus_52104)\n"
   ]
  },
  {
   "cell_type": "code",
   "execution_count": 74,
   "metadata": {},
   "outputs": [
    {
     "output_type": "stream",
     "name": "stdout",
     "text": [
      "Empty DataFrame\nColumns: []\nIndex: []\n"
     ]
    }
   ],
   "source": [
    "df_52104 = pd.DataFrame()\n",
    "\n",
    "# for i in range(10):\n",
    "\n",
    "\n",
    "# for index, row in cgm_52104.iterrows():\n",
    "#     if(row[\"Reading taken at\"])\n",
    "\n",
    "print(df_52104.head())"
   ]
  }
 ]
}