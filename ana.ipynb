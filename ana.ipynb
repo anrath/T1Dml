{
 "metadata": {
  "language_info": {
   "codemirror_mode": {
    "name": "ipython",
    "version": 3
   },
   "file_extension": ".py",
   "mimetype": "text/x-python",
   "name": "python",
   "nbconvert_exporter": "python",
   "pygments_lexer": "ipython3",
   "version": "3.8.5-final"
  },
  "orig_nbformat": 2,
  "kernelspec": {
   "name": "Python 3.8.5 64-bit ('t1d_1': conda)",
   "display_name": "Python 3.8.5 64-bit ('t1d_1': conda)",
   "metadata": {
    "interpreter": {
     "hash": "9814f2f40997759e55f2fde0d2b857093f60da7e85602264242a746c5fb56112"
    }
   }
  }
 },
 "nbformat": 4,
 "nbformat_minor": 2,
 "cells": [
  {
   "source": [
    "# Starting data analysis"
   ],
   "cell_type": "markdown",
   "metadata": {}
  },
  {
   "cell_type": "code",
   "execution_count": 29,
   "metadata": {
    "tags": []
   },
   "outputs": [],
   "source": [
    "import pandas as pd\n",
    "basal_52104 = pd.read_csv(\"Data/PatientData/EAOB/52104/basal.csv\")\n",
    "bolus_52104 = pd.read_csv(\"Data/PatientData/EAOB/52104/bolus.csv\")\n",
    "cgm_52104 = pd.read_csv(\"Data/PatientData/EAOB/52104/cgm.csv\")\n",
    "hr_52104 = pd.read_csv(\"Data/PatientData/EAOB/52104/hr.csv\")\n",
    "meal_52104 = pd.read_csv(\"Data/PatientData/EAOB/52104/meal.csv\")\n",
    "smbg_52104 = pd.read_csv(\"Data/PatientData/EAOB/52104/smbg.csv\")\n",
    "smbgcal_52104 = pd.read_csv(\"Data/PatientData/EAOB/52104/smbgcal.csv\")\n",
    "steps_52104 = pd.read_csv(\"Data/PatientData/EAOB/52104/steps.csv\")\n",
    "dataFrames = [basal_52104, bolus_52104, cgm_52104, smbg_52104, smbgcal_52104, steps_52104, meal_52104]\n",
    "\n",
    "# for frame in dataFrames:\n",
    "#     print(frame.columns)"
   ]
  },
  {
   "cell_type": "code",
   "execution_count": 30,
   "metadata": {},
   "outputs": [],
   "source": [
    "def get_df_name(df):\n",
    "    name =[x for x in globals() if globals()[x] is df][0]\n",
    "    return name\n",
    "\n",
    "def refactorTime(df):\n",
    "    name = get_df_name(df).split(\"_\")[0]\n",
    "    format = \"%m/%d/%Y %H:%M\" #02/27/2018 00:01\n",
    "    if name == \"steps\":\n",
    "        format = \"%Y-%m-%d %H:%M:%S\" #02/27/2018 00:01:08\n",
    "    elif name == \"cgm\" or name == \"smbgcal\": #2018-02-28 14:29:00\n",
    "        format = \"%m/%d/%Y %H:%M:%S\"\n",
    "\n",
    "    df.iloc[:, 1] = pd.to_datetime(df.iloc[:, 1], format=format)\n",
    "    df.iloc[:, 2] = df.iloc[:, 2].apply(pd.to_numeric, errors='coerce')\n",
    "\n",
    "    # set index to time, this makes df a time series df and then apply pandas time series functions.  \n",
    "    df.set_index(df.iloc[:, 1], drop=True, inplace=True)\n",
    "\n",
    "    # create another df by resampling the original df\n",
    "    new_df = pd.DataFrame(df.iloc[:, 2].resample(\"5min\", label=\"right\", closed=\"right\").mean().pad())\n",
    "    new_df = new_df.rename(columns={\" Reading\": name + \"Reading\", \" Units\": name + \"Reading\", \"value\": \"stepCount\", \" Carb Content\": \"carbCount\"})\n",
    "    new_df = new_df.rename_axis(\"time\")\n",
    "    return new_df\n",
    "\n",
    "dataFrames_1 = []\n",
    "for frame in dataFrames:\n",
    "    frame = refactorTime(frame)\n",
    "    # print(frame.head())\n",
    "    dataFrames_1.append(frame)\n",
    "df_52104 = pd.concat(dataFrames_1, axis=1)\n",
    "# print(df_52104.head())\n",
    "df_52104.to_csv(\"df_52104.csv\")"
   ]
  },
  {
   "cell_type": "code",
   "execution_count": null,
   "metadata": {},
   "outputs": [],
   "source": []
  }
 ]
}