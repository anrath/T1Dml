{
 "metadata": {
  "language_info": {
   "codemirror_mode": {
    "name": "ipython",
    "version": 3
   },
   "file_extension": ".py",
   "mimetype": "text/x-python",
   "name": "python",
   "nbconvert_exporter": "python",
   "pygments_lexer": "ipython3",
   "version": "3.8.5-final"
  },
  "orig_nbformat": 2,
  "kernelspec": {
   "name": "Python 3.8.5 64-bit ('t1d_1': conda)",
   "display_name": "Python 3.8.5 64-bit ('t1d_1': conda)",
   "metadata": {
    "interpreter": {
     "hash": "9814f2f40997759e55f2fde0d2b857093f60da7e85602264242a746c5fb56112"
    }
   }
  }
 },
 "nbformat": 4,
 "nbformat_minor": 2,
 "cells": [
  {
   "source": [
    "# Starting data analysis"
   ],
   "cell_type": "markdown",
   "metadata": {}
  },
  {
   "cell_type": "code",
   "execution_count": 9,
   "metadata": {
    "tags": []
   },
   "outputs": [],
   "source": [
    "import pandas as pd\n",
    "import re"
   ]
  },
  {
   "cell_type": "code",
   "execution_count": 10,
   "metadata": {},
   "outputs": [],
   "source": [
    "def get_df_name(df):\n",
    "    name =[x for x in globals() if globals()[x] is df][0]\n",
    "    return name\n",
    "def refactorTime(name, df):\n",
    "    df.iloc[:, 1] = df.iloc[:, 1].apply(lambda x: x + \":00\" if (re.search(\"^((\\d\\d)/(\\d\\d)/(\\d\\d\\d\\d)|(\\d\\d\\d\\d)-(\\d\\d)-(\\d\\d)) (\\d\\d):([0-5][0-9]):([0-5][0-9])$\", x) == None) else x)\n",
    "    try:\n",
    "        df.iloc[:, 1] = pd.to_datetime(df.iloc[:, 1], format=\"%m/%d/%Y %H:%M:%S\")\n",
    "    except:\n",
    "        df.iloc[:, 1] = pd.to_datetime(df.iloc[:, 1], format=\"%Y-%m-%d %H:%M:%S\")\n",
    "    # print(name)\n",
    "    df.iloc[:, 2] = df.iloc[:, 2].apply(pd.to_numeric, errors='coerce')\n",
    "\n",
    "    # set index to time, this makes df a time series df and then apply pandas time series functions.  \n",
    "    df.set_index(df.iloc[:, 1], drop=True, inplace=True)\n",
    "\n",
    "    # create another df by resampling the original df\n",
    "    new_df = pd.DataFrame(df.iloc[:, 2].resample(\"5min\", label=\"right\", closed=\"right\").mean().pad())\n",
    "    new_df = new_df.rename(columns={\" Reading\": name + \"Reading\", \" Units\": name + \"Reading\", \"value\": \"stepCount\", \" Carb Content\": \"carbCount\"})\n",
    "    new_df = new_df.rename_axis(\"time\")\n",
    "    return new_df\n",
    "\n",
    "# # DEPRECATED\n",
    "# basal_52104 = pd.read_csv(\"Data/PatientData/EAOB/52104/basal.csv\")\n",
    "# bolus_52104 = pd.read_csv(\"Data/PatientData/EAOB/52104/bolus.csv\")\n",
    "# cgm_52104 = pd.read_csv(\"Data/PatientData/EAOB/52104/cgm.csv\")\n",
    "# hr_52104 = pd.read_csv(\"Data/PatientData/EAOB/52104/hr.csv\")\n",
    "# meal_52104 = pd.read_csv(\"Data/PatientData/EAOB/52104/meal.csv\")\n",
    "# smbg_52104 = pd.read_csv(\"Data/PatientData/EAOB/52104/smbg.csv\")\n",
    "# smbgcal_52104 = pd.read_csv(\"Data/PatientData/EAOB/52104/smbgcal.csv\")\n",
    "# steps_52104 = pd.read_csv(\"Data/PatientData/EAOB/52104/steps.csv\")\n",
    "# dataFrames = [basal_52104, bolus_52104, cgm_52104, smbg_52104, smbgcal_52104, steps_52104, meal_52104]\n",
    "\n",
    "# dataFrames_1 = []\n",
    "# for frame in dataFrames:\n",
    "#     frame = refactorTime(frame)\n",
    "#     # print(frame.head())\n",
    "#     dataFrames_1.append(frame)\n",
    "# df_52104 = pd.concat(dataFrames_1, axis=1)\n",
    "# # print(df_52104.head())\n",
    "# df_52104.to_csv(\"df_52104.csv\")"
   ]
  },
  {
   "cell_type": "code",
   "execution_count": 11,
   "metadata": {},
   "outputs": [],
   "source": [
    "basal = pd.DataFrame()\n",
    "bolus = pd.DataFrame()\n",
    "cgm = pd.DataFrame()\n",
    "meal = pd.DataFrame()\n",
    "smbg = pd.DataFrame()\n",
    "smbgcal = pd.DataFrame()\n",
    "steps = pd.DataFrame()\n",
    "d = {\"basal\": basal, \"bolus\": bolus, \"cgm\": cgm, \"meal\": meal, \"smbg\": smbg, \"smbgcal\": smbgcal, \"steps\": steps}\n",
    "def configurePatient(patientNum):\n",
    "    dataFrames_1 = []\n",
    "    for key, value in d.items():\n",
    "        value = pd.read_csv('Data/PatientData/EAOB/' + str(patientNum) + '/' + key + '.csv')\n",
    "        value = refactorTime(key, value)\n",
    "        dataFrames_1.append(value)\n",
    "    df_patient = pd.concat(dataFrames_1, axis=1)\n",
    "    return df_patient"
   ]
  },
  {
   "cell_type": "code",
   "execution_count": 12,
   "metadata": {
    "tags": []
   },
   "outputs": [],
   "source": [
    "patientList = range(52104, 52122)\n",
    "df_52104 = pd.DataFrame()\n",
    "df_52106 = pd.DataFrame()\n",
    "df_52107 = pd.DataFrame()\n",
    "df_52108 = pd.DataFrame()\n",
    "df_52109 = pd.DataFrame()\n",
    "df_52110 = pd.DataFrame()\n",
    "df_52111 = pd.DataFrame()\n",
    "df_52113 = pd.DataFrame()\n",
    "df_52116 = pd.DataFrame()\n",
    "df_52117 = pd.DataFrame()\n",
    "df_52118 = pd.DataFrame()\n",
    "df_52119 = pd.DataFrame()\n",
    "df_52121 = pd.DataFrame()\n",
    "df_52122 = pd.DataFrame()\n",
    "\n",
    "\n",
    "patientDictionary = {52104: df_52104, 52106: df_52106, 52107: df_52107, 52108: df_52108, 52109: df_52109, 52110: df_52110, 52111: df_52111, 52113: df_52113, 52116: df_52116, 52117: df_52117, 52118: df_52118, 52119: df_52119, 52121: df_52121, 52122: df_52122}\n",
    "dataFrames_2 = []\n",
    "for key, value in patientDictionary.items():\n",
    "    # print(key)\n",
    "    value = configurePatient(key)\n",
    "    dataFrames_2.append(value)\n",
    "    # print(value.head())\n",
    "dataFrames_2[0].to_csv(\"df_52104.csv\")\n",
    "dataFrames_2[1].to_csv(\"df_52106.csv\")\n",
    "dataFrames_2[2].to_csv(\"df_52107.csv\")\n",
    "dataFrames_2[3].to_csv(\"df_52108.csv\")\n",
    "dataFrames_2[4].to_csv(\"df_52109.csv\")\n",
    "dataFrames_2[5].to_csv(\"df_52110.csv\")\n",
    "dataFrames_2[6].to_csv(\"df_52111.csv\")\n",
    "dataFrames_2[7].to_csv(\"df_52113.csv\")\n",
    "dataFrames_2[8].to_csv(\"df_52116.csv\")\n",
    "dataFrames_2[9].to_csv(\"df_52117.csv\")\n",
    "dataFrames_2[10].to_csv(\"df_52118.csv\")\n",
    "dataFrames_2[11].to_csv(\"df_52119.csv\")\n",
    "dataFrames_2[12].to_csv(\"df_52121.csv\")\n",
    "dataFrames_2[13].to_csv(\"df_52122.csv\")\n"
   ]
  }
 ]
}